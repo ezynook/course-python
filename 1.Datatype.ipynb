{
 "cells": [
  {
   "cell_type": "markdown",
   "metadata": {},
   "source": [
    "### Python นั้นมีชนิดข้อมูล (data types) หลายประเภทที่ใช้สำหรับเก็บข้อมูลชนิดต่างๆ ดังนี้\n",
    "\n",
    "1. Numbers (ตัวเลข)\n",
    "    * int (integer): เก็บค่าตัวเลขจำนวนเต็ม เช่น 1, -2, 42\n",
    "    * float (floating point): เก็บค่าตัวเลขทศนิยม เช่น 3.14, -0.001, 2.0\n",
    "    * complex: เก็บค่าตัวเลขเชิงซ้อน เช่น 1 + 2j, -3 + 4j\n",
    "2. Boolean (บูลีน)\n",
    "    * bool: เก็บค่า True หรือ False ใช้ในการตรวจสอบเงื่อนไข เช่น True, False\n",
    "3. Sequence (ลำดับ)\n",
    "    * str (string): เก็บค่าข้อความ เป็นลำดับของตัวอักษร เช่น \"Hello, World!\", 'Python'\n",
    "    * list: เก็บค่าหลายๆ ค่าในรูปแบบลำดับที่เปลี่ยนแปลงได้ (mutable) เช่น [1, 2, 3], [\"apple\", \"banana\", \"cherry\"]\n",
    "    * tuple: เก็บค่าหลายๆ ค่าในรูปแบบลำดับที่เปลี่ยนแปลงไม่ได้ (immutable) เช่น (1, 2, 3), (\"apple\", \"banana\", \"cherry\")\n",
    "4. Set (เซ็ต)\n",
    "   * set: เก็บค่าหลายๆ ค่า ที่ไม่ซ้ำกันและไม่มีลำดับ เช่น {1, 2, 3}, {\"apple\", \"banana\", \"cherry\"}\n",
    "5. Dictionary (พจนานุกรม)\n",
    "    * dict: เก็บคู่ของ key-value ที่มีความสัมพันธ์กัน ใช้สำหรับเก็บข้อมูลในรูปแบบที่สามารถค้นหาค่าได้รวดเร็ว เช่น {\"name\": \"John\", \"age\": 30}, {1: \"apple\", 2: \"banana\"}\n",
    "6. NoneType\n",
    "    * None: เป็นชนิดข้อมูลที่มีค่าเดียวคือ None ใช้ในการแทนค่าที่ไม่มีการกำหนดค่า เช่น ตัวแปรที่ยังไม่ได้รับการกำหนดค่า หรือตัวแปรที่ต้องการรีเซ็ตค่า"
   ]
  },
  {
   "cell_type": "code",
   "execution_count": null,
   "metadata": {},
   "outputs": [],
   "source": [
    "# Numbers\n",
    "x = 10          # int\n",
    "y = 3.14        # float\n",
    "z = 1 + 2j      # complex"
   ]
  },
  {
   "cell_type": "code",
   "execution_count": null,
   "metadata": {},
   "outputs": [],
   "source": [
    "# Boolean\n",
    "is_active = True    # bool\n",
    "is_member = False   # bool"
   ]
  },
  {
   "cell_type": "code",
   "execution_count": null,
   "metadata": {},
   "outputs": [],
   "source": [
    "# Sequence\n",
    "text = \"Hello, Python!\"  # str\n",
    "numbers = [1, 2, 3, 4, 5]  # list\n",
    "fruits = (\"apple\", \"banana\", \"cherry\")  # tuple"
   ]
  },
  {
   "cell_type": "code",
   "execution_count": null,
   "metadata": {},
   "outputs": [],
   "source": [
    "# Set\n",
    "unique_numbers = {1, 2, 3, 4, 5}  # set\n",
    "unique_fruits = {\"apple\", \"banana\", \"cherry\"}  # set"
   ]
  },
  {
   "cell_type": "code",
   "execution_count": null,
   "metadata": {},
   "outputs": [],
   "source": [
    "# Dictionary\n",
    "person = {\"name\": \"Alice\", \"age\": 25}  # dict\n",
    "items = {1: \"apple\", 2: \"banana\", 3: \"cherry\"}  # dict"
   ]
  },
  {
   "cell_type": "code",
   "execution_count": null,
   "metadata": {},
   "outputs": [],
   "source": [
    "# NoneType\n",
    "nothing = None  # NoneType"
   ]
  }
 ],
 "metadata": {
  "language_info": {
   "name": "python"
  }
 },
 "nbformat": 4,
 "nbformat_minor": 2
}
