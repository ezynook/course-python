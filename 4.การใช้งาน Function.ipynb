{
 "cells": [
  {
   "cell_type": "markdown",
   "metadata": {},
   "source": [
    "### ในการเขียนโปรแกรมด้วยภาษา Python, \"ฟังก์ชัน\" (Function) เป็นเครื่องมือที่สำคัญในการจัดการโค้ดให้มีความเป็นระเบียบและง่ายต่อการใช้งานซ้ำๆ"
   ]
  },
  {
   "cell_type": "code",
   "execution_count": null,
   "metadata": {},
   "outputs": [],
   "source": [
    "def ชื่อฟังก์ชัน(พารามิเตอร์1, พารามิเตอร์2):\n",
    "    # โค้ดที่ทำงานภายในฟังก์ชัน\n",
    "    ผลลัพธ์ = พารามิเตอร์1 + พารามิเตอร์2\n",
    "    return ผลลัพธ์"
   ]
  },
  {
   "cell_type": "code",
   "execution_count": null,
   "metadata": {},
   "outputs": [],
   "source": [
    "def add(num1, num2):\n",
    "    result = num1 + num2\n",
    "    return result\n",
    "\n",
    "# Calling the function\n",
    "result = add(5, 3)\n",
    "print(result)  # Output will be 8"
   ]
  },
  {
   "cell_type": "code",
   "execution_count": null,
   "metadata": {},
   "outputs": [],
   "source": [
    "def introduce(name, age=18):\n",
    "    print(f\"Hello, my name is {name} and I am {age} years old.\")\n",
    "\n",
    "# Calling the function without specifying age\n",
    "introduce(\"John\")  # Output: Hello, my name is John and I am 18 years old\n",
    "\n",
    "# Calling the function with specifying age\n",
    "introduce(\"Jane\", 25)  # Output: Hello, my name is Jane and I am 25 years old"
   ]
  },
  {
   "cell_type": "code",
   "execution_count": 1,
   "metadata": {},
   "outputs": [],
   "source": [
    "class User:\n",
    "    def getName(name):\n",
    "        return name\n",
    "    \n",
    "obj = User\n",
    "obj.getName(\"Nook\")"
   ]
  }
 ],
 "metadata": {
  "kernelspec": {
   "display_name": "py39",
   "language": "python",
   "name": "python3"
  },
  "language_info": {
   "codemirror_mode": {
    "name": "ipython",
    "version": 3
   },
   "file_extension": ".py",
   "mimetype": "text/x-python",
   "name": "python",
   "nbconvert_exporter": "python",
   "pygments_lexer": "ipython3",
   "version": "3.9.18"
  }
 },
 "nbformat": 4,
 "nbformat_minor": 2
}
