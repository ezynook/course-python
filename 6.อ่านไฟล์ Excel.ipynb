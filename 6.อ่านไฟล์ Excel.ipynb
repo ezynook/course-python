{
 "cells": [
  {
   "cell_type": "markdown",
   "metadata": {},
   "source": [
    "#### Pandas เป็น Library (ไลบรารี่) ที่ใช้สำหรับวิเคราะห์ข้อมูลในหลายๆ format ที่มีประสิทธิที่ภาพมาก เป็นที่นิยมในตอนนี้ สามารถเอาไปใช้ได้ในงาน Data Analysis เพื่อดู Data set และใช้ภาษา Python (ไพธอน) ในการเขียน\n",
    "\n",
    "---\n",
    "\n",
    "Install Pandas\n",
    "\n",
    "* `pip install pandas`"
   ]
  },
  {
   "cell_type": "code",
   "execution_count": null,
   "metadata": {},
   "outputs": [],
   "source": [
    "import pandas as pd\n",
    "import matplotlib.pyplot as plt\n",
    "import seaborn as sns\n",
    "\n",
    "df = pd.read_excel(\"File/Example.xlsx\")"
   ]
  },
  {
   "cell_type": "code",
   "execution_count": null,
   "metadata": {},
   "outputs": [],
   "source": [
    "df.head()  # แสดงข้อมูล 5 แถวแรก"
   ]
  },
  {
   "cell_type": "code",
   "execution_count": null,
   "metadata": {},
   "outputs": [],
   "source": [
    "df.tail()  # แสดงข้อมูล 5 แถวสุดท้าย"
   ]
  },
  {
   "cell_type": "code",
   "execution_count": null,
   "metadata": {},
   "outputs": [],
   "source": [
    "#การกรองข้อมูล\n",
    "filtered_df = df[df[\"Address\"] == \"Pattani\"]\n",
    "filtered_df"
   ]
  },
  {
   "cell_type": "code",
   "execution_count": null,
   "metadata": {},
   "outputs": [],
   "source": [
    "#ลบแถวที่มีข้อมูลขาดหาย\n",
    "df.dropna(inplace=True)"
   ]
  },
  {
   "cell_type": "code",
   "execution_count": null,
   "metadata": {},
   "outputs": [],
   "source": [
    "#การเปลี่ยนแปลงข้อมูล\n",
    "df[\"NewColumn\"] = df[\"Name\"] + ' - ' + df['Address']\n",
    "df"
   ]
  },
  {
   "cell_type": "code",
   "execution_count": null,
   "metadata": {},
   "outputs": [],
   "source": [
    "df.to_excel(\"File/NewFile.xlsx\", index=False, header=True)"
   ]
  },
  {
   "cell_type": "markdown",
   "metadata": {},
   "source": []
  }
 ],
 "metadata": {
  "kernelspec": {
   "display_name": "py39",
   "language": "python",
   "name": "python3"
  },
  "language_info": {
   "codemirror_mode": {
    "name": "ipython",
    "version": 3
   },
   "file_extension": ".py",
   "mimetype": "text/x-python",
   "name": "python",
   "nbconvert_exporter": "python",
   "pygments_lexer": "ipython3",
   "version": "3.9.18"
  }
 },
 "nbformat": 4,
 "nbformat_minor": 2
}
