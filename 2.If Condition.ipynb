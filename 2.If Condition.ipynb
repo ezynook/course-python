{
 "cells": [
  {
   "cell_type": "markdown",
   "metadata": {},
   "source": [
    "### การใช้คำสั่ง if ในภาษา Python เป็นวิธีการตรวจสอบเงื่อนไขและทำการควบคุมการทำงานของ\n",
    "### โปรแกรมตามเงื่อนไขที่กำหนด คำสั่ง if มีรูปแบบพื้นฐานดังนี้:\n",
    "\n",
    "```py\n",
    "if เงื่อนไข:\n",
    "    คำสั่งที่ต้องการทำถ้าเงื่อนไขเป็นจริง\n",
    "```"
   ]
  },
  {
   "cell_type": "code",
   "execution_count": null,
   "metadata": {},
   "outputs": [],
   "source": [
    "age = 18\n",
    "\n",
    "if age >= 18:\n",
    "    print(\"โตแล้วนะ.\")"
   ]
  },
  {
   "cell_type": "markdown",
   "metadata": {},
   "source": [
    "```py\n",
    "if เงื่อนไข:\n",
    "    คำสั่งที่ต้องการทำถ้าเงื่อนไขเป็นจริง\n",
    "else:\n",
    "    คำสั่งที่ต้องการทำถ้าเงื่อนไขเป็นเท็จ\n",
    "```"
   ]
  },
  {
   "cell_type": "code",
   "execution_count": null,
   "metadata": {},
   "outputs": [],
   "source": [
    "age = 16\n",
    "\n",
    "if age >= 18:\n",
    "    print(\"โตแล้วนะ.\")\n",
    "else:\n",
    "    print(\"คุณยังเด็กนะ\")"
   ]
  },
  {
   "cell_type": "markdown",
   "metadata": {},
   "source": [
    "```py\n",
    "if เงื่อนไข1:\n",
    "    คำสั่งที่ต้องการทำถ้าเงื่อนไข1เป็นจริง\n",
    "elif เงื่อนไข2:\n",
    "    คำสั่งที่ต้องการทำถ้าเงื่อนไข2เป็นจริง\n",
    "else:\n",
    "    คำสั่งที่ต้องการทำถ้าเงื่อนไขทั้งหมดเป็นเท็จ\n",
    "```"
   ]
  },
  {
   "cell_type": "code",
   "execution_count": null,
   "metadata": {},
   "outputs": [],
   "source": [
    "score = 85\n",
    "\n",
    "if score >= 90:\n",
    "    print(\"Grade A\")\n",
    "elif score >= 80:\n",
    "    print(\"Grade B\")\n",
    "elif score >= 70:\n",
    "    print(\"Grade C\")\n",
    "elif score >= 60:\n",
    "    print(\"Grade D\")\n",
    "else:\n",
    "    print(\"Grade F\")"
   ]
  },
  {
   "cell_type": "code",
   "execution_count": 4,
   "metadata": {},
   "outputs": [
    {
     "name": "stdout",
     "output_type": "stream",
     "text": [
      "Positive number and divisible by 3\n"
     ]
    }
   ],
   "source": [
    "num = 15\n",
    "\n",
    "if num > 0 and num <= 15:\n",
    "    print(\"Positive number and divisible by 3\")"
   ]
  },
  {
   "cell_type": "markdown",
   "metadata": {},
   "source": [
    "#### สรุป\n",
    "คำสั่ง if ใน Python เป็นเครื่องมือที่ใช้สำหรับการควบคุมการทำงานของโปรแกรมตามเงื่อนไขที่กำหนด ช่วยให้โปรแกรมสามารถทำงานได้อย่างมีประสิทธิภาพและยืดหยุ่นในการตอบสนองต่อสถานการณ์ต่างๆ"
   ]
  },
  {
   "cell_type": "markdown",
   "metadata": {},
   "source": []
  }
 ],
 "metadata": {
  "kernelspec": {
   "display_name": "py39",
   "language": "python",
   "name": "python3"
  },
  "language_info": {
   "codemirror_mode": {
    "name": "ipython",
    "version": 3
   },
   "file_extension": ".py",
   "mimetype": "text/x-python",
   "name": "python",
   "nbconvert_exporter": "python",
   "pygments_lexer": "ipython3",
   "version": "3.9.18"
  }
 },
 "nbformat": 4,
 "nbformat_minor": 2
}
