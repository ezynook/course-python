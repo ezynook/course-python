{
 "cells": [
  {
   "cell_type": "markdown",
   "metadata": {},
   "source": [
    "#### HTML คืออะไร\n",
    "     HTML ย่อมาจาก Hyper Text Markup Language คือภาษาคอมพิวเตอร์ที่ใช้ในการแสดงผลของเอกสารบน website หรือที่เราเรียกกันว่าเว็บเพจ ถูกพัฒนาและกำหนดมาตรฐานโดยองค์กร World Wide Web Consortium (W3C) และจากการพัฒนาทางด้าน Software ของ Microsoft ทำให้ภาษา HTML เป็นอีกภาษาหนึ่งที่ใช้เขียนโปรแกรมได้ หรือที่เรียกว่า HTML Application  HTML เป็นภาษาประเภท Markup   สำหรับการการสร้างเว็บเพจ โดยใช้ภาษา HTML สามารถทำโดยใช้โปรแกรม Text Editor ต่างๆ เช่น Notepad, Editplus หรือจะอาศัยโปรแกรมที่เป็นเครื่องมือช่วยสร้างเว็บเพจ เช่น Microsoft FrontPage, Dream Weaver ซึ่งอํานวยความสะดวกในการสร้างหน้า HTML ส่วนการเรียกใช้งานหรือทดสอบการทำงานของเอกสาร HTML จะใช้โปรแกรม web browser เช่น IE Microsoft Internet Explorer  (IE), Mozilla Firefox, Safari, Opera, และ Netscape Navigator เป็นต้น\n"
   ]
  },
  {
   "cell_type": "markdown",
   "metadata": {},
   "source": [
    "### ศึกษาเพิ่มได้ที่ : https://www.w3schools.com/html/"
   ]
  },
  {
   "cell_type": "code",
   "execution_count": null,
   "metadata": {
    "vscode": {
     "languageId": "plaintext"
    }
   },
   "outputs": [],
   "source": [
    "<!-- โครงสร้างพื้นฐานของ HTML -->\n",
    "<!DOCTYPE html>\n",
    "<html lang=\"th\">\n",
    "<head>\n",
    "    <meta charset=\"UTF-8\">\n",
    "    <meta name=\"viewport\" content=\"width=device-width, initial-scale=1.0\">\n",
    "    <title>หน้าเว็บของฉัน</title>\n",
    "</head>\n",
    "<body>\n",
    "    <h1>ยินดีต้อนรับสู่หน้าเว็บของฉัน</h1>\n",
    "    <p>นี่คือย่อหน้าแรกของฉัน</p>\n",
    "    <a href=\"https://www.example.com\">นี่คือลิงก์ไปยังเว็บไซต์อื่น</a>\n",
    "</body>\n",
    "</html>\n"
   ]
  },
  {
   "cell_type": "markdown",
   "metadata": {
    "vscode": {
     "languageId": "html"
    }
   },
   "source": [
    "<!-- การแสดงรูปภาพ -->\n",
    "<img src=\"path/to/image.jpg\" alt=\"คำอธิบายรูปภาพ\">"
   ]
  },
  {
   "cell_type": "code",
   "execution_count": null,
   "metadata": {
    "vscode": {
     "languageId": "plaintext"
    }
   },
   "outputs": [],
   "source": [
    "<!-- การสร้างตาราง -->\n",
    "<table>\n",
    "    <tr>\n",
    "        <th>หัวข้อ 1</th>\n",
    "        <th>หัวข้อ 2</th>\n",
    "    </tr>\n",
    "    <tr>\n",
    "        <td>ข้อมูล 1</td>\n",
    "        <td>ข้อมูล 2</td>\n",
    "    </tr>\n",
    "</table>"
   ]
  },
  {
   "cell_type": "code",
   "execution_count": null,
   "metadata": {
    "vscode": {
     "languageId": "plaintext"
    }
   },
   "outputs": [],
   "source": [
    "<!-- การสร้างรายการ -->\n",
    "<ul>\n",
    "    <li>รายการที่ 1</li>\n",
    "    <li>รายการที่ 2</li>\n",
    "</ul>\n",
    "\n",
    "<ol>\n",
    "    <li>รายการที่ 1</li>\n",
    "    <li>รายการที่ 2</li>\n",
    "</ol>"
   ]
  },
  {
   "cell_type": "markdown",
   "metadata": {},
   "source": []
  }
 ],
 "metadata": {
  "language_info": {
   "name": "python"
  }
 },
 "nbformat": 4,
 "nbformat_minor": 2
}
