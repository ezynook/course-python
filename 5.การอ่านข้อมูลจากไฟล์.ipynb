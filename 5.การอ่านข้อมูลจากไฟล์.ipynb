{
 "cells": [
  {
   "cell_type": "markdown",
   "metadata": {},
   "source": [
    "#### การอ่านและเขียนไฟล์ในภาษา Python เป็นเรื่องที่ทำได้ง่ายและมีความยืดหยุ่นสูง โดยใช้ฟังก์ชันที่มีอยู่ในไลบรารีมาตรฐานของ Python มาดูวิธีการทำงานกับไฟล์แบบพื้นฐาน"
   ]
  },
  {
   "cell_type": "markdown",
   "metadata": {},
   "source": []
  },
  {
   "cell_type": "markdown",
   "metadata": {},
   "source": [
    "#### การเปิดไฟล์\n",
    "* filename: ชื่อของไฟล์ที่ต้องการเปิด\n",
    "* mode: โหมดการเปิดไฟล์ เช่น 'r' สำหรับอ่าน, 'w' สำหรับเขียน, 'a' สำหรับเพิ่มข้อมูล, 'b' สำหรับเปิดไฟล์แบบไบนารี\n",
    "#### โหมดในการเปิดไฟล์\n",
    "* 'r': อ่านไฟล์ (ค่าเริ่มต้น)\n",
    "* 'w': เขียนไฟล์ใหม่ (ลบข้อมูลเดิมทิ้ง)\n",
    "* 'a': เขียนข้อมูลต่อจากไฟล์เดิม\n",
    "* 'b': โหมดไบนารี\n",
    "* 'r+': อ่านและเขียนไฟล์"
   ]
  },
  {
   "cell_type": "markdown",
   "metadata": {},
   "source": [
    "### เขียนไฟล์"
   ]
  },
  {
   "cell_type": "code",
   "execution_count": null,
   "metadata": {},
   "outputs": [],
   "source": [
    "# เขียนไฟล์ด้วย with statement\n",
    "with open(\"example.txt\", \"w\") as file:\n",
    "    file.write(\"Hello, World!\\n\")\n",
    "    file.write(\"This is a text file.\\n\")"
   ]
  },
  {
   "cell_type": "markdown",
   "metadata": {},
   "source": [
    "## อ่านไฟล์"
   ]
  },
  {
   "cell_type": "code",
   "execution_count": null,
   "metadata": {},
   "outputs": [],
   "source": [
    "with open(\"example.txt\", \"r\") as file:\n",
    "    content = file.read()\n",
    "    print(content)"
   ]
  }
 ],
 "metadata": {
  "language_info": {
   "name": "python"
  }
 },
 "nbformat": 4,
 "nbformat_minor": 2
}
